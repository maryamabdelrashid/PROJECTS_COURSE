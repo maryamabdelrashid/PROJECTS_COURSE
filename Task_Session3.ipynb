{
  "nbformat": 4,
  "nbformat_minor": 0,
  "metadata": {
    "colab": {
      "provenance": []
    },
    "kernelspec": {
      "name": "python3",
      "display_name": "Python 3"
    },
    "language_info": {
      "name": "python"
    }
  },
  "cells": [
    {
      "cell_type": "markdown",
      "source": [
        "# Session 2 Tasks"
      ],
      "metadata": {
        "id": "N8blBjfzqU6I"
      }
    },
    {
      "cell_type": "markdown",
      "source": [
        "1. Create 3 variables to store street, city and country, now create address variable to\n",
        "store entire address. Use two ways of creating this variable, one using + operator and the other using f-string.\n",
        "Now Print the address in such a way that the street, city and country prints in a separate line\n",
        "2. Create a variable to store the string \"Earth revolves around the sun\"\n",
        "    1. Print \"revolves\" using slice operator\n",
        "    2. Print \"sun\" using negative index\n",
        "3. Create two variables to store how many fruits and vegetables you eat in a day.\n",
        "Now Print \"I eat x veggies and y fruits daily\" where x and y presents vegetables and fruits that you eat everyday. Use python f string for this.\n",
        "4. I have a string variable called s='maine 200 banana khaye'. This of course is a\n",
        "wrong statement, the correct statement is 'maine 10 samosa khaye'.\n",
        "Replace incorrect words in original strong with new ones and print the new string.\n",
        "Also try to do this in one line.\n"
      ],
      "metadata": {
        "id": "10XjML4cqZa4"
      }
    },
    {
      "cell_type": "code",
      "execution_count": null,
      "metadata": {
        "id": "Ujy7EoOljExD"
      },
      "outputs": [],
      "source": [
        "street = input(\"enter a street name: \")\n",
        "city = input(\"enter a city name: \")\n",
        "country = input(\"enter a country name: \")\n",
        "address = street +\"\\n\"+ city +\"\\n\"+ country\n",
        "print(address)\n",
        "address = f\"{street}\\n{city}\\n{country}\"\n",
        "print(address)"
      ]
    },
    {
      "cell_type": "code",
      "source": [
        "text = \"Earth revolves around the sun\"\n",
        "print(text[5:14])\n",
        "print(text[-3:])"
      ],
      "metadata": {
        "id": "DiPwHmWwjKj6",
        "outputId": "63c7dd3b-1cee-49e6-eef0-792d5dafe286",
        "colab": {
          "base_uri": "https://localhost:8080/"
        }
      },
      "execution_count": null,
      "outputs": [
        {
          "output_type": "stream",
          "name": "stdout",
          "text": [
            " revolves\n",
            "sun\n"
          ]
        }
      ]
    },
    {
      "cell_type": "code",
      "source": [
        "vegetables =int(input(\"enter how many vegetables you eat in a day: \"))\n",
        "fruits = int(input(\"enter how many fruits you eat in a day: \"))\n",
        "print(f\"i eat {vegetables} veggetables and {fruits} fruits today\")"
      ],
      "metadata": {
        "id": "Cm8_YPzYpQRU",
        "outputId": "c96ef4dc-7b8e-4532-b3ed-66cf49f8c921",
        "colab": {
          "base_uri": "https://localhost:8080/"
        }
      },
      "execution_count": null,
      "outputs": [
        {
          "output_type": "stream",
          "name": "stdout",
          "text": [
            "enter how many vegetables you eat in a day: 2\n",
            "enter how many fruits you eat in a day: 3\n",
            "i eat 2 veggetables and 3 fruits today\n"
          ]
        }
      ]
    },
    {
      "cell_type": "code",
      "source": [
        "s =\"maina 200 banana khaye\"\n",
        "s = s.replace(\"200\",\"10\"). replace(\"banana\",\"samosa\")\n",
        "print(s)"
      ],
      "metadata": {
        "id": "JZgSwuxqrmRP",
        "outputId": "851e4520-9842-4968-c905-80f5293cb47a",
        "colab": {
          "base_uri": "https://localhost:8080/"
        }
      },
      "execution_count": null,
      "outputs": [
        {
          "output_type": "stream",
          "name": "stdout",
          "text": [
            "maina 10 samosa khaye\n"
          ]
        }
      ]
    },
    {
      "cell_type": "markdown",
      "source": [
        "1. Let us say your expense for every month are listed below.\n",
        "\t  1. January -  2200\n",
        "    2. February - 2350\n",
        "    3. March - 2600\n",
        "    4. April - 2130\n",
        "    5. May - 2190\n",
        "\n",
        "Create a list to store these monthly expenses and using that find out,\n",
        "\n",
        "    1. In Feb, how many dollars you spent extra compare to January?\n",
        "    2. Find out your total expense in first quarter (first three months) of the year.\n",
        "    3. Find out if you spent exactly 2000 dollars in any month\n",
        "    4. June month just finished and your expense is 1980 dollar. Add this item to our monthly expense list\n",
        "    5. You returned an item that you bought in a month of April and\n",
        "    got a refund of 200$. Make a correction to your monthly expense list\n",
        "    based on this\n",
        "\n",
        "2. You have a list of your favourite marvel super heros.\n",
        "```\n",
        "heros=['spider man','thor','hulk','iron man','captain america']\n",
        "```\n",
        "\n",
        "Using this find out,\n",
        "\n",
        "    1. Length of the list\n",
        "    2. Add 'black panther' at the end of this list\n",
        "    3. You realize that you need to add 'black panther' after 'hulk',\n",
        "       so remove it from the list first and then add it after 'hulk'\n",
        "    4. Now you don't like thor and hulk because they get angry easily :)\n",
        "       So you want to remove thor and hulk from list and replace them with doctor strange (because he is cool).\n",
        "       Do that with one line of code.\n",
        "    5. Sort the heros list in alphabetical order (Hint. Use dir() functions to list down all functions available in list)\n",
        "\n",
        "\n",
        "\n",
        "\n"
      ],
      "metadata": {
        "id": "B98K3rbAqz7e"
      }
    },
    {
      "cell_type": "code",
      "source": [
        "expenses = [2200, 2350, 2600 , 2130 , 2190]\n",
        "extra = expenses[1]-expenses[0]\n",
        "print(extra)\n",
        "expenses_first_quarter = expenses[0]+ expenses[1]+ expenses[2]\n",
        "print(expenses_first_quarter)\n",
        "print(2000 in expenses)\n",
        "expenses.append(1980)\n",
        "print(expenses)\n",
        "expenses = expenses[3]-200\n",
        "print(expenses)"
      ],
      "metadata": {
        "outputId": "f84ff514-9811-4456-9283-e2d40dc83cc3",
        "colab": {
          "base_uri": "https://localhost:8080/"
        },
        "id": "dMuX7fbL_5zL"
      },
      "execution_count": null,
      "outputs": [
        {
          "output_type": "stream",
          "name": "stdout",
          "text": [
            "150\n",
            "7150\n",
            "False\n",
            "[2200, 2350, 2600, 2130, 2190, 1980]\n",
            "1930\n"
          ]
        }
      ]
    },
    {
      "cell_type": "code",
      "source": [
        "heros = ['spider man','thor','hulk','iron man','captain america']\n",
        "print(len(heros))\n",
        "heros.append('black panther')\n",
        "print(heros)\n",
        "heros.remove('black panther')\n",
        "heros.insert(3, 'black panther')\n",
        "print(heros)\n",
        "heros[heros.index('thor')] = 'doctor strange';heros[heros.index('hulk')] ='doctor strange'\n",
        "print(heros)\n",
        "heros.sort()\n",
        "print(heros)"
      ],
      "metadata": {
        "colab": {
          "base_uri": "https://localhost:8080/"
        },
        "id": "5n1s9P1aASp7",
        "outputId": "1298ff73-1e70-4fdd-8330-804aac0b3381"
      },
      "execution_count": null,
      "outputs": [
        {
          "output_type": "stream",
          "name": "stdout",
          "text": [
            "5\n",
            "['spider man', 'thor', 'hulk', 'iron man', 'captain america', 'black panther']\n",
            "['spider man', 'thor', 'hulk', 'black panther', 'iron man', 'captain america', 'black panther']\n",
            "['spider man', 'doctor strange', 'doctor strange', 'black panther', 'iron man', 'captain america', 'black panther']\n",
            "['black panther', 'black panther', 'captain america', 'doctor strange', 'doctor strange', 'iron man', 'spider man']\n"
          ]
        }
      ]
    }
  ]
}