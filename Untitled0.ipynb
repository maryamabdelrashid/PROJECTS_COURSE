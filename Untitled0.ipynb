{
  "nbformat": 4,
  "nbformat_minor": 0,
  "metadata": {
    "colab": {
      "provenance": [],
      "authorship_tag": "ABX9TyNvYaB4hEFs+RxCfHvs8QDk",
      "include_colab_link": true
    },
    "kernelspec": {
      "name": "python3",
      "display_name": "Python 3"
    },
    "language_info": {
      "name": "python"
    }
  },
  "cells": [
    {
      "cell_type": "markdown",
      "metadata": {
        "id": "view-in-github",
        "colab_type": "text"
      },
      "source": [
        "<a href=\"https://colab.research.google.com/github/maryamabdelrashid/ai-course/blob/main/Untitled0.ipynb\" target=\"_parent\"><img src=\"https://colab.research.google.com/assets/colab-badge.svg\" alt=\"Open In Colab\"/></a>"
      ]
    },
    {
      "cell_type": "code",
      "execution_count": null,
      "metadata": {
        "id": "DIPci4m1zQKB",
        "colab": {
          "base_uri": "https://localhost:8080/"
        },
        "outputId": "0e434099-1426-4b07-a670-cc1d52b86e44"
      },
      "outputs": [
        {
          "output_type": "stream",
          "name": "stdout",
          "text": [
            "enter your number-5\n",
            "5\n"
          ]
        }
      ],
      "source": [
        "x = int(input(\"enter your number\"))\n",
        "if x>=0:\n",
        "  print(x)\n",
        "else :\n",
        "    print(x*-1)"
      ]
    },
    {
      "cell_type": "code",
      "source": [
        "year = int(input(\"enter your year\"))\n",
        "if (year%4==0 or year%100!=0 and year%400==0):\n",
        "  print(\"a leap year\")\n",
        "else :\n",
        "  print(\"not a leap year\")"
      ],
      "metadata": {
        "colab": {
          "base_uri": "https://localhost:8080/"
        },
        "id": "opvtgQfxf6iY",
        "outputId": "8e992486-9aaf-40d7-85b6-468e91ff54d5"
      },
      "execution_count": null,
      "outputs": [
        {
          "output_type": "stream",
          "name": "stdout",
          "text": [
            "enter your year2005\n",
            "not a leap year\n"
          ]
        }
      ]
    },
    {
      "cell_type": "code",
      "source": [
        "age1 = int(input(\"enter age of first person\"))\n",
        "age2 = int(input(\"enter age of scound person\"))\n",
        "age3 = int(input(\"enter age of third person\"))\n",
        "if(age1>=age2 and age1>=age3):\n",
        "  print(\"age 1 oldest\")\n",
        "elif(age2>=age1 and age2>=age3):\n",
        "  print(\"age2 oldest\")\n",
        "else :\n",
        "  print(\"age3 oldest\")\n",
        "if(age1<=age2 and age1<=age2):\n",
        "  print(\"age1 youngest\")\n",
        "elif(age2<=1 and age2<=age3):\n",
        "  print(\"age2 youngest\")\n",
        "else :\n",
        "  print(\"age3 yongest\")\n",
        "\n"
      ],
      "metadata": {
        "colab": {
          "base_uri": "https://localhost:8080/"
        },
        "id": "2Rb-pRfZys1a",
        "outputId": "a9342b26-e379-42f9-a63c-9b2ef0863b3f"
      },
      "execution_count": null,
      "outputs": [
        {
          "output_type": "stream",
          "name": "stdout",
          "text": [
            "enter age of first person50\n",
            "enter age of scound person60\n",
            "enter age of third person70\n",
            "age3 oldest\n",
            "age1 youngest\n"
          ]
        }
      ]
    },
    {
      "cell_type": "code",
      "source": [
        "total = 0\n",
        "number1 = int(input(\"enter first number\"))\n",
        "number2 = int(input(\"enter scound number\"))\n",
        "number3 = int(input(\"enter third number\"))\n",
        "if(number1>=0):\n",
        "  total=total+number1\n",
        "if(number2>=0):\n",
        "  total=total+number2\n",
        "if(number3>=0):\n",
        "  total=total+number3\n",
        "  print(total)\n",
        "\n",
        "print(\"sum of all positive numbers is:\",total)\n",
        "\n"
      ],
      "metadata": {
        "colab": {
          "base_uri": "https://localhost:8080/"
        },
        "id": "17cv5mJR-KH3",
        "outputId": "d9b42de4-a0a3-4cff-8977-26539e0f3835"
      },
      "execution_count": null,
      "outputs": [
        {
          "output_type": "stream",
          "name": "stdout",
          "text": [
            "enter first number5\n",
            "enter scound number6\n",
            "enter third number-7\n",
            "sum of all positive numbers is: 11\n"
          ]
        }
      ]
    },
    {
      "cell_type": "code",
      "source": [
        "name = str(input(\"enter your name\"))\n",
        "age = int(input(\"enter your age\"))\n",
        "if(age>=18):\n",
        "  print(\"eligible to vote\")\n",
        "else :\n",
        "  print(\"not eligible to vote\")"
      ],
      "metadata": {
        "colab": {
          "base_uri": "https://localhost:8080/"
        },
        "id": "Uoe9XUE1HaFl",
        "outputId": "22142aca-36c8-470c-b06f-6c3e7b3a1e14"
      },
      "execution_count": null,
      "outputs": [
        {
          "output_type": "stream",
          "name": "stdout",
          "text": [
            "enter your namemaryam\n",
            "enter your age20\n",
            "eligible to vote\n"
          ]
        }
      ]
    }
  ]
}