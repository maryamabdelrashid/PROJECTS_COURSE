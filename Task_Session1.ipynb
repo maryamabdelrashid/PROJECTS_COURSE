{
  "cells": [
    {
      "cell_type": "markdown",
      "metadata": {
        "id": "view-in-github",
        "colab_type": "text"
      },
      "source": [
        "<a href=\"https://colab.research.google.com/github/maryamabdelrashid/PROJECTS_COURSE/blob/main/Task_Session1.ipynb\" target=\"_parent\"><img src=\"https://colab.research.google.com/assets/colab-badge.svg\" alt=\"Open In Colab\"/></a>"
      ]
    },
    {
      "cell_type": "markdown",
      "id": "2e6129a7",
      "metadata": {
        "id": "2e6129a7"
      },
      "source": [
        "## WAP to enter a number from user and print its absolute value.*"
      ]
    },
    {
      "cell_type": "code",
      "execution_count": null,
      "id": "1a2b81cb",
      "metadata": {
        "id": "1a2b81cb",
        "outputId": "41cd1495-9138-45d2-c94e-aba2da18cd16",
        "colab": {
          "base_uri": "https://localhost:8080/"
        }
      },
      "outputs": [
        {
          "output_type": "stream",
          "name": "stdout",
          "text": [
            "enter your number: -5\n",
            "5\n"
          ]
        }
      ],
      "source": [
        "x = int(input(\"enter your number: \"))\n",
        "if(x>=0):\n",
        "  print(x)\n",
        "else :\n",
        "  print(x*-1)"
      ]
    },
    {
      "cell_type": "markdown",
      "id": "6e4c5e8e",
      "metadata": {
        "id": "6e4c5e8e"
      },
      "source": [
        "##  WAP to enter a year from user and check if it is leap year of not."
      ]
    },
    {
      "cell_type": "code",
      "execution_count": null,
      "id": "98f7d9fc",
      "metadata": {
        "id": "98f7d9fc",
        "outputId": "2bfd5ebc-71a9-4818-89d1-26710640c206",
        "colab": {
          "base_uri": "https://localhost:8080/"
        }
      },
      "outputs": [
        {
          "output_type": "stream",
          "name": "stdout",
          "text": [
            "enter your year: 2005\n",
            "not leap year\n"
          ]
        }
      ],
      "source": [
        "year = int(input(\"enter your year: \"))\n",
        "if(year%4==0):\n",
        "  print(\"a leap year\")\n",
        "else :\n",
        "  print(\"not leap year\")"
      ]
    },
    {
      "cell_type": "markdown",
      "id": "30b689c8",
      "metadata": {
        "id": "30b689c8"
      },
      "source": [
        "## WAP to enter the age of 3 person and print oldest and yougest among them."
      ]
    },
    {
      "cell_type": "code",
      "execution_count": null,
      "id": "c166f026",
      "metadata": {
        "id": "c166f026",
        "outputId": "2fefd595-77bc-4bc4-f1ff-f794266717f1",
        "colab": {
          "base_uri": "https://localhost:8080/"
        }
      },
      "outputs": [
        {
          "output_type": "stream",
          "name": "stdout",
          "text": [
            "enter age of first person: 20\n",
            "enter age of secound person: 30\n",
            "enter age ot third person: 40\n",
            "age3 oldest\n",
            "age1 youngest\n"
          ]
        }
      ],
      "source": [
        "age1 = int(input(\"enter age of first person: \"))\n",
        "age2 = int(input(\"enter age of secound person: \"))\n",
        "age3 = int(input(\"enter age ot third person: \"))\n",
        "if(age1>=age2 & age1>=age3):\n",
        "  print(\"age1 oldest\")\n",
        "elif(age2>=age1 & age2>=age3):\n",
        "  print(\"age2 oldest\")\n",
        "else :\n",
        "  print(\"age3 oldest\")\n",
        "if(age1<=age2 & age1<=age3):\n",
        "  print(\"age1 youngest\")\n",
        "elif(age2<=age1 & age2<=age3):\n",
        "  print(\"age2 youngest\")\n",
        "else :\n",
        "  print(\"age3 youngest\")"
      ]
    },
    {
      "cell_type": "markdown",
      "id": "b7a31e5f",
      "metadata": {
        "id": "b7a31e5f"
      },
      "source": [
        "## Write a program that asks the user to enter a series of numbers. The program should ask for numbers until the user enters a negative number. Once the user enters a negative number, the program should stop and print the sum of all the positive numbers entered\n",
        "\n",
        "## Example\n",
        "\n",
        "\n",
        "### Enter a number: 5\n",
        "### Enter a number: 8\n",
        "### Enter a number: 12\n",
        "### Enter a number: -2\n",
        "### The sum of the positive numbers is 25."
      ]
    },
    {
      "cell_type": "code",
      "source": [
        "\"the program sum the total of all positive numbers& EXIT when user enter a negative number\"\n",
        "total = 0\n",
        "number = 0\n",
        "while(number>=0):\n",
        "    number = int(input(\"Enter a positive number: \"))\n",
        "    if(number>=0):\n",
        "        total=total+number\n",
        "print(\"You entered a negative number:(\")\n",
        "print(\"The total of all positive numbers is:\", total)"
      ],
      "metadata": {
        "id": "yb2EQix_KjiY",
        "colab": {
          "base_uri": "https://localhost:8080/"
        },
        "outputId": "527009de-c014-4888-bea4-f97b8bd6ce81"
      },
      "id": "yb2EQix_KjiY",
      "execution_count": 2,
      "outputs": [
        {
          "output_type": "stream",
          "name": "stdout",
          "text": [
            "Enter a positive number: -7\n",
            "You entered a negative number:(\n",
            "The total of all positive numbers is: 0\n"
          ]
        }
      ]
    },
    {
      "cell_type": "code",
      "source": [],
      "metadata": {
        "id": "Dk9faSFkW3eW"
      },
      "id": "Dk9faSFkW3eW",
      "execution_count": null,
      "outputs": []
    },
    {
      "cell_type": "code",
      "execution_count": 1,
      "metadata": {
        "collapsed": true,
        "id": "n-48GA7a-GoX",
        "colab": {
          "base_uri": "https://localhost:8080/"
        },
        "outputId": "94b9b145-fbec-4541-ab55-d2ad6ed3a576"
      },
      "outputs": [
        {
          "output_type": "stream",
          "name": "stdout",
          "text": [
            " enter positive number: -7\n",
            "the total of all positive numbers is: 0\n"
          ]
        }
      ],
      "source": [
        "total = 0\n",
        "number = int(input(\" enter positive number: \"))\n",
        "while number>=0:\n",
        "  total += number\n",
        "  number = int(input(\" enter positive number: \"))\n",
        "  if number<0:\n",
        "    break\n",
        "\n",
        "print(\"the total of all positive numbers is:\", total)"
      ],
      "id": "n-48GA7a-GoX"
    },
    {
      "cell_type": "markdown",
      "id": "7e526aaa",
      "metadata": {
        "id": "7e526aaa"
      },
      "source": [
        "## Write a program that asks the user to enter their name and age. The program should check if the user's age is greater than or equal to 18. If it is, the program should print a message saying they are eligible to vote. Otherwise, the program should print a message saying they are not eligible to vote due to being underage.\n"
      ]
    },
    {
      "cell_type": "code",
      "execution_count": null,
      "id": "96c50bdf",
      "metadata": {
        "id": "96c50bdf",
        "outputId": "c7cb9298-35b0-4e25-947c-41c3f327fe31",
        "colab": {
          "base_uri": "https://localhost:8080/"
        }
      },
      "outputs": [
        {
          "output_type": "stream",
          "name": "stdout",
          "text": [
            "enter your name: maryam\n",
            "enter your age: 20 \n",
            "eligible to vote\n"
          ]
        }
      ],
      "source": [
        "name = str(input(\"enter your name: \"))\n",
        "age = int(input(\"enter your age: \"))\n",
        "if(age>=18):\n",
        "  print(\"eligible to vote\")\n",
        "else :\n",
        "  print(\"not eligible to vote\")\n",
        "\n"
      ]
    }
  ],
  "metadata": {
    "kernelspec": {
      "display_name": "Python 3 (ipykernel)",
      "language": "python",
      "name": "python3"
    },
    "language_info": {
      "codemirror_mode": {
        "name": "ipython",
        "version": 3
      },
      "file_extension": ".py",
      "mimetype": "text/x-python",
      "name": "python",
      "nbconvert_exporter": "python",
      "pygments_lexer": "ipython3",
      "version": "3.9.12"
    },
    "colab": {
      "provenance": [],
      "include_colab_link": true
    }
  },
  "nbformat": 4,
  "nbformat_minor": 5
}