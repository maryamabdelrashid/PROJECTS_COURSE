{
  "cells": [
    {
      "cell_type": "markdown",
      "metadata": {
        "id": "view-in-github",
        "colab_type": "text"
      },
      "source": [
        "<a href=\"https://colab.research.google.com/github/maryamabdelrashid/ai-course/blob/main/Task_Session1.ipynb\" target=\"_parent\"><img src=\"https://colab.research.google.com/assets/colab-badge.svg\" alt=\"Open In Colab\"/></a>"
      ]
    },
    {
      "cell_type": "markdown",
      "id": "2e6129a7",
      "metadata": {
        "id": "2e6129a7"
      },
      "source": [
        "## WAP to enter a number from user and print its absolute value.*"
      ]
    },
    {
      "cell_type": "code",
      "execution_count": null,
      "id": "1a2b81cb",
      "metadata": {
        "id": "1a2b81cb",
        "outputId": "f2424724-ecab-45ac-99fb-5a5147e74a5d",
        "colab": {
          "base_uri": "https://localhost:8080/"
        }
      },
      "outputs": [
        {
          "output_type": "stream",
          "name": "stdout",
          "text": [
            "enter your number-5\n",
            "5\n"
          ]
        }
      ],
      "source": [
        "x = int(input(\"enter your number\"))\n",
        "if(x>=0):\n",
        "  print(x)\n",
        "else :\n",
        "  print(x*-1)"
      ]
    },
    {
      "cell_type": "markdown",
      "id": "6e4c5e8e",
      "metadata": {
        "id": "6e4c5e8e"
      },
      "source": [
        "##  WAP to enter a year from user and check if it is leap year of not."
      ]
    },
    {
      "cell_type": "code",
      "execution_count": null,
      "id": "98f7d9fc",
      "metadata": {
        "id": "98f7d9fc",
        "outputId": "38586ee7-8ba9-41c5-cb98-f9c4af493abd",
        "colab": {
          "base_uri": "https://localhost:8080/"
        }
      },
      "outputs": [
        {
          "output_type": "stream",
          "name": "stdout",
          "text": [
            "enter your year2005\n",
            "not leap year\n"
          ]
        }
      ],
      "source": [
        "year = int(input(\"enter your year\"))\n",
        "if(year%4==0 and year%100!=0 or year%400==0):\n",
        "  print(\"a leap year\")\n",
        "else :\n",
        "  print(\"not leap year\")"
      ]
    },
    {
      "cell_type": "markdown",
      "id": "30b689c8",
      "metadata": {
        "id": "30b689c8"
      },
      "source": [
        "## WAP to enter the age of 3 person and print oldest and yougest among them."
      ]
    },
    {
      "cell_type": "code",
      "execution_count": null,
      "id": "c166f026",
      "metadata": {
        "id": "c166f026",
        "outputId": "1d0bf1c9-4951-4e3d-efc5-341f208390c5",
        "colab": {
          "base_uri": "https://localhost:8080/"
        }
      },
      "outputs": [
        {
          "output_type": "stream",
          "name": "stdout",
          "text": [
            "enter age of first person50\n",
            "enter age of secound person60\n",
            "enter age ot third person70\n",
            "age3 oldest\n"
          ]
        }
      ],
      "source": [
        "age1 = int(input(\"enter age of first person\"))\n",
        "age2 = int(input(\"enter age of secound person\"))\n",
        "age3 = int(input(\"enter age ot third person\"))\n",
        "if(age1>=age2 and age1>=age3):\n",
        "  print(\"age1 oldest\")\n",
        "elif(age2>=age1 and age2>=age3):\n",
        "  print(\"age2 oldest\")\n",
        "else :\n",
        "  print(\"age3 oldest\")\n",
        "if(age1<=age2 and age1<=age3):\n",
        "  print(\"age1 youngest\")\n",
        "elif(age2<=age1 and age2<=age3):\n",
        "  print(\"age2 youngest\")\n",
        "else :\n",
        "  print(\"age3 youngest\")"
      ]
    },
    {
      "cell_type": "markdown",
      "id": "b7a31e5f",
      "metadata": {
        "id": "b7a31e5f"
      },
      "source": [
        "## Write a program that asks the user to enter a series of numbers. The program should ask for numbers until the user enters a negative number. Once the user enters a negative number, the program should stop and print the sum of all the positive numbers entered\n",
        "\n",
        "## Example\n",
        "\n",
        "\n",
        "### Enter a number: 5\n",
        "### Enter a number: 8\n",
        "### Enter a number: 12\n",
        "### Enter a number: -2\n",
        "### The sum of the positive numbers is 25."
      ]
    },
    {
      "cell_type": "code",
      "execution_count": null,
      "id": "daf372d4",
      "metadata": {
        "id": "daf372d4",
        "outputId": "ce1f9495-1e8d-4fce-df04-d344cb53c989",
        "colab": {
          "base_uri": "https://localhost:8080/"
        }
      },
      "outputs": [
        {
          "output_type": "stream",
          "name": "stdout",
          "text": [
            " enter first number5\n",
            "enter secound number6\n",
            "enter third number-7\n",
            "sum of all positive numbers: 11\n"
          ]
        }
      ],
      "source": [
        "total = 0\n",
        "number1 = int(input(\" enter first number\"))\n",
        "number2 = int(input(\"enter secound number\"))\n",
        "number3 = int(input(\"enter third number\"))\n",
        "if(number1>=0):\n",
        "  total=total+number1\n",
        "if(number2>=0):\n",
        "  total=total+number2\n",
        "if(number3>=0):\n",
        "  total=total+number3\n",
        "print(\"sum of all positive numbers:\" ,total)\n"
      ]
    },
    {
      "cell_type": "markdown",
      "id": "7e526aaa",
      "metadata": {
        "id": "7e526aaa"
      },
      "source": [
        "## Write a program that asks the user to enter their name and age. The program should check if the user's age is greater than or equal to 18. If it is, the program should print a message saying they are eligible to vote. Otherwise, the program should print a message saying they are not eligible to vote due to being underage.\n"
      ]
    },
    {
      "cell_type": "code",
      "execution_count": null,
      "id": "96c50bdf",
      "metadata": {
        "id": "96c50bdf",
        "outputId": "1237ffc5-11c3-4b5d-c4e9-ebf1eddc17ba",
        "colab": {
          "base_uri": "https://localhost:8080/"
        }
      },
      "outputs": [
        {
          "output_type": "stream",
          "name": "stdout",
          "text": [
            "enter your namemaryam\n",
            "enter your age20\n",
            "eligible to vote\n"
          ]
        }
      ],
      "source": [
        "name = str(input(\"enter your name\"))\n",
        "age = int(input(\"enter your age\"))\n",
        "if(age>=18):\n",
        "  print(\"eligible to vote\")\n",
        "else :\n",
        "  print(\"not eligible to vote\")\n",
        "\n"
      ]
    }
  ],
  "metadata": {
    "kernelspec": {
      "display_name": "Python 3 (ipykernel)",
      "language": "python",
      "name": "python3"
    },
    "language_info": {
      "codemirror_mode": {
        "name": "ipython",
        "version": 3
      },
      "file_extension": ".py",
      "mimetype": "text/x-python",
      "name": "python",
      "nbconvert_exporter": "python",
      "pygments_lexer": "ipython3",
      "version": "3.9.12"
    },
    "colab": {
      "provenance": [],
      "include_colab_link": true
    }
  },
  "nbformat": 4,
  "nbformat_minor": 5
}