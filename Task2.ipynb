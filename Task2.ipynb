{
  "nbformat": 4,
  "nbformat_minor": 0,
  "metadata": {
    "colab": {
      "provenance": [],
      "include_colab_link": true
    },
    "kernelspec": {
      "name": "python3",
      "display_name": "Python 3"
    },
    "language_info": {
      "name": "python"
    }
  },
  "cells": [
    {
      "cell_type": "markdown",
      "metadata": {
        "id": "view-in-github",
        "colab_type": "text"
      },
      "source": [
        "<a href=\"https://colab.research.google.com/github/maryamabdelrashid/PROJECTS_COURSE/blob/main/Task2.ipynb\" target=\"_parent\"><img src=\"https://colab.research.google.com/assets/colab-badge.svg\" alt=\"Open In Colab\"/></a>"
      ]
    },
    {
      "cell_type": "markdown",
      "source": [
        "# Ask the user for a number n. Print numbers from 1 to n using a while loop"
      ],
      "metadata": {
        "id": "V33UQJ38VnDR"
      }
    },
    {
      "cell_type": "code",
      "execution_count": null,
      "metadata": {
        "id": "m9rRlMN7VkoR",
        "outputId": "4f28204b-2475-43a0-bcc9-94de0e848ae3",
        "colab": {
          "base_uri": "https://localhost:8080/"
        }
      },
      "outputs": [
        {
          "output_type": "stream",
          "name": "stdout",
          "text": [
            "enter number: 7\n",
            "1\n",
            "2\n",
            "3\n",
            "4\n",
            "5\n",
            "6\n",
            "7\n"
          ]
        }
      ],
      "source": [
        "n = int(input(\"enter number: \"))\n",
        "i = 1\n",
        "while i<=n:\n",
        "  print(i)\n",
        "  i+=1"
      ]
    },
    {
      "cell_type": "markdown",
      "source": [
        "# Ask the user to enter a number n, then calculate and print the sum of numbers from 1 to n using a for loop."
      ],
      "metadata": {
        "id": "tSuuO3v9WI_9"
      }
    },
    {
      "cell_type": "code",
      "source": [
        "n = int(input(\"enter number: \"))\n",
        "sum = 0\n",
        "for i in range (n+1):\n",
        "  sum+=i\n",
        "  print(\"the sum is\", sum)"
      ],
      "metadata": {
        "id": "qd5NM06zWJfa",
        "outputId": "b3091f5b-eda5-4a04-a1c5-505be396b1e2",
        "colab": {
          "base_uri": "https://localhost:8080/"
        }
      },
      "execution_count": null,
      "outputs": [
        {
          "output_type": "stream",
          "name": "stdout",
          "text": [
            "enter number: 7\n",
            "the sum is 0\n",
            "the sum is 1\n",
            "the sum is 3\n",
            "the sum is 6\n",
            "the sum is 10\n",
            "the sum is 15\n",
            "the sum is 21\n",
            "the sum is 28\n"
          ]
        }
      ]
    },
    {
      "cell_type": "markdown",
      "source": [
        "# Ask the user for a number and print its multiplication table up to 10 using a for loop."
      ],
      "metadata": {
        "id": "MkVpz9xUWQIn"
      }
    },
    {
      "cell_type": "code",
      "source": [
        "number= int(input(\"enter a number:\"))\n",
        "for i in range(1,11):\n",
        "  print(number,'x',i,'=',number * i)\n"
      ],
      "metadata": {
        "id": "SkXMJOOzWQ_Z",
        "colab": {
          "base_uri": "https://localhost:8080/"
        },
        "outputId": "1961b8b6-d2ef-494c-b1b3-595558ffef43"
      },
      "execution_count": null,
      "outputs": [
        {
          "output_type": "stream",
          "name": "stdout",
          "text": [
            "enter a number:7\n",
            "7 x 1 = 7\n",
            "7 x 2 = 14\n",
            "7 x 3 = 21\n",
            "7 x 4 = 28\n",
            "7 x 5 = 35\n",
            "7 x 6 = 42\n",
            "7 x 7 = 49\n",
            "7 x 8 = 56\n",
            "7 x 9 = 63\n",
            "7 x 10 = 70\n"
          ]
        }
      ]
    },
    {
      "cell_type": "markdown",
      "source": [
        "# Use a for loop to print all even numbers between 1 and 50."
      ],
      "metadata": {
        "id": "d28atHDsWVtK"
      }
    },
    {
      "cell_type": "code",
      "source": [
        "for i in range(1,51):\n",
        "  if i %2==0:\n",
        "    print(i)"
      ],
      "metadata": {
        "id": "mzScfu3AWWWi",
        "colab": {
          "base_uri": "https://localhost:8080/"
        },
        "outputId": "b686fd44-0896-4817-dc46-91a56100a5b1"
      },
      "execution_count": null,
      "outputs": [
        {
          "output_type": "stream",
          "name": "stdout",
          "text": [
            "2\n",
            "4\n",
            "6\n",
            "8\n",
            "10\n",
            "12\n",
            "14\n",
            "16\n",
            "18\n",
            "20\n",
            "22\n",
            "24\n",
            "26\n",
            "28\n",
            "30\n",
            "32\n",
            "34\n",
            "36\n",
            "38\n",
            "40\n",
            "42\n",
            "44\n",
            "46\n",
            "48\n",
            "50\n"
          ]
        }
      ]
    },
    {
      "cell_type": "code",
      "source": [
        "for i in range (2, 51,2):\n",
        "  print(i)"
      ],
      "metadata": {
        "colab": {
          "base_uri": "https://localhost:8080/"
        },
        "id": "ViGulRWRs9NF",
        "outputId": "f87a1682-cfad-4d6a-c7d4-7dcc670b264d"
      },
      "execution_count": null,
      "outputs": [
        {
          "output_type": "stream",
          "name": "stdout",
          "text": [
            "2\n",
            "4\n",
            "6\n",
            "8\n",
            "10\n",
            "12\n",
            "14\n",
            "16\n",
            "18\n",
            "20\n",
            "22\n",
            "24\n",
            "26\n",
            "28\n",
            "30\n",
            "32\n",
            "34\n",
            "36\n",
            "38\n",
            "40\n",
            "42\n",
            "44\n",
            "46\n",
            "48\n",
            "50\n"
          ]
        }
      ]
    },
    {
      "cell_type": "markdown",
      "source": [
        "#Create a program that asks the user to guess a secret number (e.g., 7).\n",
        "#Keep asking until they guess correctly using a while loop."
      ],
      "metadata": {
        "id": "mDoz8OjTWciv"
      }
    },
    {
      "cell_type": "code",
      "source": [
        "number = int(input(\"enter a number:\"))\n",
        "while number!=7:\n",
        "  print (\"try again\")\n",
        "  number = int(input(\"enter a number:\"))\n",
        "  while number==7:\n",
        "    print(\"correctly\")\n",
        "    break"
      ],
      "metadata": {
        "id": "qd2K5SfnWeIc",
        "colab": {
          "base_uri": "https://localhost:8080/"
        },
        "outputId": "b084e27f-b881-44af-91a9-172835068bab"
      },
      "execution_count": null,
      "outputs": [
        {
          "output_type": "stream",
          "name": "stdout",
          "text": [
            "enter a number:8\n",
            "try again\n",
            "enter a number:9\n",
            "try again\n",
            "enter a number:10\n",
            "try again\n",
            "enter a number:6\n",
            "try again\n",
            "enter a number:7\n",
            "correctly\n"
          ]
        }
      ]
    },
    {
      "cell_type": "markdown",
      "source": [
        "# Ask the user to enter a number, then count down from that number to 0 using a while loop."
      ],
      "metadata": {
        "id": "LZ6mLi5xWg9h"
      }
    },
    {
      "cell_type": "code",
      "source": [
        "number = int(input(\"enter number: \"))\n",
        "while number>=0:\n",
        "  print(number)\n",
        "  number-=1"
      ],
      "metadata": {
        "id": "egxVWTTXWn1i",
        "colab": {
          "base_uri": "https://localhost:8080/"
        },
        "outputId": "0cfafca9-5fd5-4f59-b24c-86e13e968505"
      },
      "execution_count": null,
      "outputs": [
        {
          "output_type": "stream",
          "name": "stdout",
          "text": [
            "enter number: 7\n",
            "7\n",
            "6\n",
            "5\n",
            "4\n",
            "3\n",
            "2\n",
            "1\n",
            "0\n"
          ]
        }
      ]
    },
    {
      "cell_type": "markdown",
      "source": [
        "# Write a program that prints following shape"
      ],
      "metadata": {
        "id": "T7asV77zWoXz"
      }
    },
    {
      "cell_type": "markdown",
      "source": [
        "```\n",
        "    *\n",
        "   ***\n",
        "  *****\n",
        " *******\n",
        "*********\n",
        " *******\n",
        "  *****\n",
        "   ***\n",
        "    *\n",
        "```"
      ],
      "metadata": {
        "id": "0Aci60GPW41g"
      }
    },
    {
      "cell_type": "code",
      "source": [
        "for i in range(1,6):\n",
        "  spaces = 5-i\n",
        "  stars = 2*i-1\n",
        "  print(\" \"* spaces + \"*\"* stars)\n",
        "for i in range(4,0,-1):\n",
        "  spaces = 5-i\n",
        "  stars = 2*i-1\n",
        "  print(\" \"* spaces + \"*\"* stars)\n"
      ],
      "metadata": {
        "id": "7Qbjgy2oW1fR",
        "colab": {
          "base_uri": "https://localhost:8080/"
        },
        "outputId": "db4a2f0b-d0fc-4293-ccbe-dcb6cc789238"
      },
      "execution_count": 6,
      "outputs": [
        {
          "output_type": "stream",
          "name": "stdout",
          "text": [
            "    *\n",
            "   ***\n",
            "  *****\n",
            " *******\n",
            "*********\n",
            " *******\n",
            "  *****\n",
            "   ***\n",
            "    *\n"
          ]
        }
      ]
    },
    {
      "cell_type": "code",
      "source": [],
      "metadata": {
        "id": "j_ib-cNFeKo5"
      },
      "execution_count": null,
      "outputs": []
    }
  ]
}