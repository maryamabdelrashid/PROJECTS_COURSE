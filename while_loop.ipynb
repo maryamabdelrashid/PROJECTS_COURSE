{
  "nbformat": 4,
  "nbformat_minor": 0,
  "metadata": {
    "colab": {
      "provenance": [],
      "authorship_tag": "ABX9TyPK8OxfRSK9ftmvNdqNSvsS",
      "include_colab_link": true
    },
    "kernelspec": {
      "name": "python3",
      "display_name": "Python 3"
    },
    "language_info": {
      "name": "python"
    }
  },
  "cells": [
    {
      "cell_type": "markdown",
      "metadata": {
        "id": "view-in-github",
        "colab_type": "text"
      },
      "source": [
        "<a href=\"https://colab.research.google.com/github/maryamabdelrashid/PROJECTS_COURSE/blob/main/while_loop.ipynb\" target=\"_parent\"><img src=\"https://colab.research.google.com/assets/colab-badge.svg\" alt=\"Open In Colab\"/></a>"
      ]
    },
    {
      "cell_type": "code",
      "execution_count": null,
      "metadata": {
        "colab": {
          "base_uri": "https://localhost:8080/"
        },
        "id": "birAjRebQBCB",
        "outputId": "f040a805-e305-45b5-c77b-64f7dd0ba3ba"
      },
      "outputs": [
        {
          "output_type": "stream",
          "name": "stdout",
          "text": [
            "enter num6\n",
            "out of the range\n"
          ]
        }
      ],
      "source": [
        "num = int(input(\"enter num\"))\n",
        "\n",
        "if num>1 and num<=5:\n",
        "  if num==1:\n",
        "    print(\"one\")\n",
        "  if num==2:\n",
        "   print(\"two\")\n",
        "   if num==3:\n",
        "     print(\"three\")\n",
        "   if num==4:\n",
        "     print(\"four\")\n",
        "   if num==5:\n",
        "      print(\"five\")\n",
        "else :\n",
        "  print(\"out of the range\")\n"
      ]
    }
  ]
}